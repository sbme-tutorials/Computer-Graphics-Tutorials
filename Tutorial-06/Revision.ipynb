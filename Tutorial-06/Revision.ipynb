{
 "cells": [
  {
   "cell_type": "markdown",
   "id": "18938629",
   "metadata": {},
   "source": [
    "# Revision Section"
   ]
  },
  {
   "cell_type": "markdown",
   "id": "0226c90b",
   "metadata": {},
   "source": [
    "## Transfomations"
   ]
  },
  {
   "cell_type": "markdown",
   "id": "5f99d362",
   "metadata": {},
   "source": [
    "1. **Translation**\n",
    "\n",
    "$$\n",
    "\\begin{bmatrix}\n",
    "x' \\\\ y'  \\\\ 1\n",
    "\\end{bmatrix} = \n",
    "\\begin{bmatrix}\n",
    "1 & 0 & t_x \\\\\n",
    "0 & 1 & t_y \\\\\n",
    "0 & 0 & 1\n",
    "\\end{bmatrix} \\begin{bmatrix}\n",
    "x \\\\ y \\\\ 1\n",
    "\\end{bmatrix} \n",
    "$$\n",
    "\n",
    "\n",
    "2. **Scaling**\n",
    "\n",
    "$$\n",
    "\\begin{bmatrix}\n",
    "x' \\\\ y'  \\\\ 1\n",
    "\\end{bmatrix} = \n",
    "\\begin{bmatrix}\n",
    "Sx & 0 & 0 \\\\\n",
    "0 & Sy & 0 \\\\\n",
    "0 & 0 & 1\n",
    "\\end{bmatrix} \\begin{bmatrix}\n",
    "x \\\\ y \\\\ 1\n",
    "\\end{bmatrix} \n",
    "$$\n",
    "\n",
    "\n",
    "\n",
    "\n",
    "**Remember**\n",
    "Fixed point scaling : $$P' = (T^{-1} ST)P$$\n",
    "\n",
    "\n",
    "\n",
    "3. **Rotation**\n",
    "$$\n",
    "R_z(\\theta) = \n",
    "\\begin{bmatrix}\n",
    "x' \\\\ y' \\\\ 1\n",
    "\\end{bmatrix} = \n",
    "\\begin{bmatrix}\n",
    "cos(\\theta) & -sin(\\theta) & 0 \\\\\n",
    "sin(\\theta) & cos(\\theta)  & 0 \\\\\n",
    "0 &  0 & 1\n",
    "\\end{bmatrix} \\begin{bmatrix}\n",
    "x \\\\ y \\\\  1\n",
    "\\end{bmatrix} \n",
    "$$\n",
    "\n",
    "**Remember** Fixed point rotaion:\n",
    "$$\n",
    "P' = (T^{-1} RT) P\n",
    "$$\n",
    "\n",
    "4. **Combined transformations** \n",
    "\n",
    "Scaling then translation $\\rightarrow (TS)$\n",
    "\n",
    "$$\n",
    "\\begin{bmatrix}\n",
    "x' \\\\ y'  \\\\ 1\n",
    "\\end{bmatrix} = \n",
    "\\begin{bmatrix}\n",
    "Sx & 0 & tx \\\\\n",
    "0 & Sy & ty \\\\\n",
    "0 & 0 & 1\n",
    "\\end{bmatrix} \\begin{bmatrix}\n",
    "x \\\\ y \\\\ 1\n",
    "\\end{bmatrix} \n",
    "$$\n",
    "\n",
    "Rotation then translation $\\rightarrow (TR_z(\\theta))$\n",
    "\n",
    "$$\n",
    "R_z(\\theta) = \n",
    "\\begin{bmatrix}\n",
    "x' \\\\ y' \\\\ 1\n",
    "\\end{bmatrix} = \n",
    "\\begin{bmatrix}\n",
    "cos(\\theta) & -sin(\\theta) & tx \\\\\n",
    "sin(\\theta) & cos(\\theta)  & ty \\\\\n",
    "0 &  0 & 1\n",
    "\\end{bmatrix} \\begin{bmatrix}\n",
    "x \\\\ y \\\\  1\n",
    "\\end{bmatrix} \n",
    "$$\n"
   ]
  },
  {
   "cell_type": "markdown",
   "id": "7d8a1d9d",
   "metadata": {},
   "source": [
    "**Remember** : Homogeneous coordinates"
   ]
  },
  {
   "cell_type": "markdown",
   "id": "d93e1592",
   "metadata": {},
   "source": [
    "### Q2 : (Sheet)\n",
    "\n",
    "For each sequence of OpenGL like commands, sketch the resulting figure knowing that the function drawSquare() draws a square at origin with a width of 1.\n",
    "\n",
    "* **a** \n",
    "```c++\n",
    "drawSquare();\n",
    "glTranslate(0,1,0);\n",
    "glScale(0.5,0.5,1);\n",
    "drawSquare();\n",
    "glTranslate(0,1,0);\n",
    "glScale(0.5,0.5,1);\n",
    "drawSquare(); \n",
    "```\n",
    "* **b**\n",
    "```c++\n",
    "drawSquare();\n",
    "glPushMatrix();\n",
    "    glTranslate(0,1,0);\n",
    "    glScale(0.5,0.5,1);\n",
    "    drawSquare();\n",
    "glPopMatrix();\n",
    "glPushMatrix();\n",
    "    glTranslate(0,2,0);\n",
    "    glScale(0.5,0.5,1);\n",
    "    drawSquare();\n",
    "glPopMatrix();\n",
    "```"
   ]
  },
  {
   "cell_type": "markdown",
   "id": "1f5eb57e",
   "metadata": {},
   "source": [
    "### Solution"
   ]
  },
  {
   "cell_type": "code",
   "execution_count": 1,
   "id": "55141b0c",
   "metadata": {},
   "outputs": [],
   "source": [
    "%matplotlib inline\n",
    "import matplotlib.pyplot as plt"
   ]
  },
  {
   "cell_type": "code",
   "execution_count": 2,
   "id": "02795c57",
   "metadata": {},
   "outputs": [],
   "source": [
    "from IPython.core.debugger import set_trace\n",
    "def plotShapes(shapes):\n",
    "    for points in shapes:\n",
    "        points = [p[:2] for p in points]\n",
    "        plt.plot(*zip(*(points+points[:1])), marker='o')\n",
    "\n",
    "        automin, automax = plt.xlim()\n",
    "        plt.xlim(automin-0.7, automax+0.7)\n",
    "        automin, automax = plt.ylim()\n",
    "        plt.ylim(automin-0.7, automax+0.7)\n",
    "    plt.show()"
   ]
  },
  {
   "cell_type": "markdown",
   "id": "3fc9e8a5",
   "metadata": {},
   "source": [
    "#### Part a"
   ]
  },
  {
   "cell_type": "markdown",
   "id": "bbf8b0f8",
   "metadata": {},
   "source": [
    "```c++\n",
    "drawSquare();\n",
    "glTranslate(0,1,0);\n",
    "glScale(0.5,0.5,1);\n",
    "drawSquare();\n",
    "glTranslate(0,1,0);\n",
    "glScale(0.5,0.5,1);\n",
    "drawSquare(); \n",
    "```"
   ]
  },
  {
   "cell_type": "markdown",
   "id": "7e63f107",
   "metadata": {},
   "source": [
    "**First Shape**\n",
    "```c++\n",
    "drawSquare(); //First shape CM=I, topStack => I\n",
    "```"
   ]
  },
  {
   "cell_type": "code",
   "execution_count": 3,
   "id": "354ce6c7",
   "metadata": {},
   "outputs": [],
   "source": [
    "import numpy as np\n",
    "shape = np.array([[ 0.5,  0.5, -0.5, -0.5],\n",
    "                  [ 0.5, -0.5, -0.5,  0.5],\n",
    "                  [  1 ,   1 ,   1 ,   1 ]])"
   ]
  },
  {
   "cell_type": "code",
   "execution_count": 4,
   "id": "131e9869",
   "metadata": {},
   "outputs": [],
   "source": [
    "shapes_a = []\n",
    "shape1a = shape\n",
    "shapes_a.append(shape1a.T)"
   ]
  },
  {
   "cell_type": "code",
   "execution_count": 5,
   "id": "b54f54c7",
   "metadata": {},
   "outputs": [
    {
     "data": {
      "image/png": "[encoded data removed]",
      "text/plain": [
       "<Figure size 432x288 with 1 Axes>"
      ]
     },
     "metadata": {
      "needs_background": "light"
     },
     "output_type": "display_data"
    }
   ],
   "source": [
    "%matplotlib inline\n",
    "plotShapes(shapes_a)"
   ]
  },
  {
   "cell_type": "markdown",
   "id": "20c78f07",
   "metadata": {},
   "source": [
    "**Second Shape**\n",
    "\n",
    "```c++\n",
    "glTranslate(0,1,0); //T1\n",
    "glScale(0.5,0.5,1); //S1\n",
    "drawSquare(); // CMa1 = T1*S1, topStack = I\n",
    "```"
   ]
  },
  {
   "cell_type": "code",
   "execution_count": 6,
   "id": "0ecafc6e",
   "metadata": {},
   "outputs": [
    {
     "data": {
      "text/plain": [
       "array([[0.5, 0. , 0. ],\n",
       "       [0. , 0.5, 1. ],\n",
       "       [0. , 0. , 1. ]])"
      ]
     },
     "execution_count": 6,
     "metadata": {},
     "output_type": "execute_result"
    }
   ],
   "source": [
    "T1 = np.array([[1, 0, 0],\n",
    "               [0, 1, 1],\n",
    "               [0, 0, 1]\n",
    "              ])\n",
    "S1 = np.array([[0.5, 0,  0],\n",
    "               [ 0, 0.5, 0],\n",
    "               [ 0,  0,  1]\n",
    "              ])\n",
    "CMa1 = T1.dot(S1) # OR use combined transformation note\n",
    "CMa1"
   ]
  },
  {
   "cell_type": "code",
   "execution_count": 7,
   "id": "5cafcf41",
   "metadata": {},
   "outputs": [
    {
     "data": {
      "image/png": "[encoded data removed]",
      "text/plain": [
       "<Figure size 432x288 with 1 Axes>"
      ]
     },
     "metadata": {
      "needs_background": "light"
     },
     "output_type": "display_data"
    }
   ],
   "source": [
    "shape2a = CMa1.dot(shape1a)\n",
    "shapes_a.append(shape2a.T)\n",
    "plotShapes(shapes_a)"
   ]
  },
  {
   "cell_type": "code",
   "execution_count": 8,
   "id": "c83ac599",
   "metadata": {},
   "outputs": [
    {
     "name": "stdout",
     "output_type": "stream",
     "text": [
      "[[ 0.25  0.25 -0.25 -0.25]\n",
      " [ 1.25  0.75  0.75  1.25]\n",
      " [ 1.    1.    1.    1.  ]]\n"
     ]
    }
   ],
   "source": [
    "print(shape2a)"
   ]
  },
  {
   "cell_type": "markdown",
   "id": "8f86a9b8",
   "metadata": {},
   "source": [
    "**Third Shape**\n",
    "\n",
    "```c++\n",
    "glTranslate(0,1,0);// T1 \n",
    "glScale(0.5,0.5,1); // S1\n",
    "drawSquare(); // CMa2 = CMa1*T1*S1, topStack = I\n",
    "```"
   ]
  },
  {
   "cell_type": "code",
   "execution_count": 9,
   "id": "38981409",
   "metadata": {},
   "outputs": [
    {
     "data": {
      "text/plain": [
       "array([[0.25, 0.  , 0.  ],\n",
       "       [0.  , 0.25, 1.5 ],\n",
       "       [0.  , 0.  , 1.  ]])"
      ]
     },
     "execution_count": 9,
     "metadata": {},
     "output_type": "execute_result"
    }
   ],
   "source": [
    "CMa2 = CMa1.dot(T1).dot(S1)\n",
    "CMa2"
   ]
  },
  {
   "cell_type": "code",
   "execution_count": 10,
   "id": "70187aa9",
   "metadata": {},
   "outputs": [
    {
     "data": {
      "image/png": "[encoded data removed]",
      "text/plain": [
       "<Figure size 432x288 with 1 Axes>"
      ]
     },
     "metadata": {
      "needs_background": "light"
     },
     "output_type": "display_data"
    }
   ],
   "source": [
    "shape3a = CMa2.dot(shape1a)\n",
    "shapes_a.append(shape3a.T)\n",
    "plotShapes(shapes_a)"
   ]
  },
  {
   "cell_type": "code",
   "execution_count": 11,
   "id": "994d407a",
   "metadata": {},
   "outputs": [
    {
     "data": {
      "text/plain": [
       "array([[ 0.125,  0.125, -0.125, -0.125],\n",
       "       [ 1.625,  1.375,  1.375,  1.625],\n",
       "       [ 1.   ,  1.   ,  1.   ,  1.   ]])"
      ]
     },
     "execution_count": 11,
     "metadata": {},
     "output_type": "execute_result"
    }
   ],
   "source": [
    "shape3a"
   ]
  },
  {
   "cell_type": "markdown",
   "id": "b76224a5",
   "metadata": {},
   "source": [
    "#### Part b\n",
    "**First Shape**\n",
    "```c++\n",
    "drawSquare(); //First shape CM=I, topStack => I\n",
    "```"
   ]
  },
  {
   "cell_type": "code",
   "execution_count": 12,
   "id": "b41dd2d4",
   "metadata": {},
   "outputs": [
    {
     "data": {
      "image/png": "[encoded data removed]",
      "text/plain": [
       "<Figure size 432x288 with 1 Axes>"
      ]
     },
     "metadata": {
      "needs_background": "light"
     },
     "output_type": "display_data"
    }
   ],
   "source": [
    "shapes = []\n",
    "shapes.append(shape.T)\n",
    "plotShapes(shapes)"
   ]
  },
  {
   "cell_type": "markdown",
   "id": "8e9bc2fb",
   "metadata": {},
   "source": [
    "**Second Shape**\n",
    "```c++\n",
    "glPushMatrix(); // CM = I, topStack = I\n",
    "    glTranslate(0,1,0); //T1\n",
    "    glScale(0.5,0.5,1); //S1\n",
    "    drawSquare(); //Second shape CM = T1*S1, topStack = I\n",
    "```"
   ]
  },
  {
   "cell_type": "code",
   "execution_count": 13,
   "id": "65cffa07",
   "metadata": {},
   "outputs": [
    {
     "name": "stdout",
     "output_type": "stream",
     "text": [
      "[[0.5 0.  0. ]\n",
      " [0.  0.5 1. ]\n",
      " [0.  0.  1. ]]\n"
     ]
    }
   ],
   "source": [
    "T1 = np.array([[1, 0, 0],\n",
    "               [0, 1, 1],\n",
    "               [0, 0, 1]\n",
    "              ])\n",
    "S1 = np.array([[0.5, 0,  0],\n",
    "               [ 0, 0.5, 0],\n",
    "               [ 0,  0,  1]\n",
    "              ])\n",
    "CM1 = T1.dot(S1)\n",
    "print(CM1)"
   ]
  },
  {
   "cell_type": "code",
   "execution_count": 14,
   "id": "9d4903b9",
   "metadata": {},
   "outputs": [
    {
     "data": {
      "image/png": "[encoded data removed]",
      "text/plain": [
       "<Figure size 432x288 with 1 Axes>"
      ]
     },
     "metadata": {
      "needs_background": "light"
     },
     "output_type": "display_data"
    }
   ],
   "source": [
    "shape2 = CM1.dot(np.asarray(shape))\n",
    "shapes.append(shape2.T)\n",
    "plotShapes(shapes)"
   ]
  },
  {
   "cell_type": "markdown",
   "id": "902c668c",
   "metadata": {},
   "source": [
    "**Third Shape**\n",
    "```c++\n",
    "glPopMatrix();  // CM = I, topStack = I\n",
    "glPushMatrix(); // CM = I , topStack = I\n",
    "    glTranslate(0,2,0); //T2\n",
    "    glScale(0.5,0.5,1); //S2 = S1\n",
    "    drawSquare();  // Third Shape CM = T2*S2 topStack = I\n",
    "glPopMatrix(); // CM = I, topStack = I\n",
    "```"
   ]
  },
  {
   "cell_type": "code",
   "execution_count": 15,
   "id": "75e30239",
   "metadata": {},
   "outputs": [
    {
     "data": {
      "text/plain": [
       "array([[0.5, 0. , 0. ],\n",
       "       [0. , 0.5, 2. ],\n",
       "       [0. , 0. , 1. ]])"
      ]
     },
     "execution_count": 15,
     "metadata": {},
     "output_type": "execute_result"
    }
   ],
   "source": [
    "T2 = np.array([[1, 0, 0],\n",
    "               [0, 1, 2],\n",
    "               [0, 0, 1]])\n",
    "\n",
    "S2 = S1\n",
    "CM2 = T2.dot(S2)\n",
    "CM2"
   ]
  },
  {
   "cell_type": "code",
   "execution_count": 16,
   "id": "96cb58cf",
   "metadata": {},
   "outputs": [],
   "source": [
    "shape3 = CM2.dot(np.asarray(shape))\n",
    "shapes.append(shape3.T)"
   ]
  },
  {
   "cell_type": "code",
   "execution_count": 17,
   "id": "ff692bae",
   "metadata": {},
   "outputs": [
    {
     "data": {
      "image/png": "[encoded data removed]",
      "text/plain": [
       "<Figure size 432x288 with 1 Axes>"
      ]
     },
     "metadata": {
      "needs_background": "light"
     },
     "output_type": "display_data"
    }
   ],
   "source": [
    "plotShapes(shapes)"
   ]
  },
  {
   "cell_type": "markdown",
   "id": "a850254f",
   "metadata": {},
   "source": [
    "### Q10 (Sheet)\n",
    "\n",
    "**Exam Problem**"
   ]
  },
  {
   "cell_type": "markdown",
   "id": "d8bc3b26",
   "metadata": {},
   "source": [
    "![](images/img1.png)\n",
    "![](images/img2.png)"
   ]
  },
  {
   "cell_type": "markdown",
   "id": "dfe06e8f",
   "metadata": {},
   "source": [
    "### Solution"
   ]
  },
  {
   "cell_type": "markdown",
   "id": "19b58c60",
   "metadata": {},
   "source": [
    "![](images/img3.png)"
   ]
  },
  {
   "cell_type": "markdown",
   "id": "3a2aeb37",
   "metadata": {},
   "source": [
    "```c++\n",
    "void drawShape(void) {\n",
    "glBegin(GL_POLYGON);\n",
    "    glVertex3f(0.0,0.0,0.0);\n",
    "    glVertex3f(2.0,0.0,0.0);\n",
    "    glVertex3f(2.0,1.0,0.0);\n",
    "    glVertex3f(1.0,1.0,0.0);\n",
    "    glVertex3f(1.0,3.0,0.0);\n",
    "    glVertex3f(0.0,3.0,0.0);\n",
    "glEnd();\n",
    "}\n",
    "```"
   ]
  },
  {
   "cell_type": "code",
   "execution_count": 18,
   "id": "9fbb3842",
   "metadata": {},
   "outputs": [],
   "source": [
    "from IPython.core.debugger import set_trace\n",
    "def plotShapes(shapes):\n",
    "    for points in shapes:\n",
    "        points = [p[:2] for p in points]\n",
    "        plt.plot(*zip(*(points+points[:1])), marker='o')\n",
    "\n",
    "        autominX, automaxX = plt.xlim()\n",
    "        autominY, automaxY = plt.ylim()\n",
    "        automin = min(autominX, autominY)\n",
    "        automax = max(automaxX, automaxY)\n",
    "\n",
    "        plt.xlim(automin-2, automax+2)\n",
    "        plt.ylim(automin-2, automax+2)\n",
    "    plt.show()"
   ]
  },
  {
   "cell_type": "markdown",
   "id": "e6f197d8",
   "metadata": {},
   "source": [
    "**Shape 1** \n",
    "```c++\n",
    "glPushMatrix();\n",
    "drawShape(); //shape 1, CM1 = I, topStack = I\n",
    "```"
   ]
  },
  {
   "cell_type": "code",
   "execution_count": 19,
   "id": "6f17f27d",
   "metadata": {},
   "outputs": [],
   "source": [
    "shapes = []\n",
    "shape1 = np.array([[0, 2, 2, 1, 1, 0],\n",
    "                   [0, 0, 1, 1, 3, 3],\n",
    "                   [1, 1, 1, 1, 1, 1]])\n",
    "shapes.append(shape1.T)"
   ]
  },
  {
   "cell_type": "code",
   "execution_count": 20,
   "id": "4ac563b5",
   "metadata": {},
   "outputs": [
    {
     "data": {
      "image/png": "[encoded data removed]",
      "text/plain": [
       "<Figure size 432x288 with 1 Axes>"
      ]
     },
     "metadata": {
      "needs_background": "light"
     },
     "output_type": "display_data"
    }
   ],
   "source": [
    "%matplotlib inline\n",
    "plotShapes(shapes)"
   ]
  },
  {
   "cell_type": "markdown",
   "id": "53d64171",
   "metadata": {},
   "source": [
    "**Shape 2** \n",
    "```c++\n",
    "glRotatef(90, 0, 0, 1); // R1\n",
    "glTranslatef(1, 0, 0); // T1\n",
    "drawShape(); // shape 2 => CM2 = R1*T1, topStack = I\n",
    "```"
   ]
  },
  {
   "cell_type": "code",
   "execution_count": 21,
   "id": "a3c83e50",
   "metadata": {},
   "outputs": [
    {
     "name": "stdout",
     "output_type": "stream",
     "text": [
      "[[ 0 -1  0]\n",
      " [ 1  0  1]\n",
      " [ 0  0  1]]\n"
     ]
    }
   ],
   "source": [
    "R1 = np.array([[ 0, -1, 0],\n",
    "               [ 1, 0, 0],\n",
    "               [ 0, 0, 1]\n",
    "              ])\n",
    "\n",
    "T1 = np.array([[ 1, 0, 1],\n",
    "               [ 0, 1, 0],\n",
    "               [ 0, 0, 1]\n",
    "              ])\n",
    "CM2 = R1.dot(T1)\n",
    "print(CM2)\n",
    "shape2  = CM2.dot(shape1)\n",
    "shapes.append(shape2.T)"
   ]
  },
  {
   "cell_type": "code",
   "execution_count": 22,
   "id": "735e7493",
   "metadata": {},
   "outputs": [
    {
     "data": {
      "image/png": "[encoded data removed]",
      "text/plain": [
       "<Figure size 432x288 with 1 Axes>"
      ]
     },
     "metadata": {
      "needs_background": "light"
     },
     "output_type": "display_data"
    }
   ],
   "source": [
    "%matplotlib inline\n",
    "plotShapes(shapes)"
   ]
  },
  {
   "cell_type": "markdown",
   "id": "cbe4f9bd",
   "metadata": {},
   "source": [
    "**Shape 3** \n",
    "```c++\n",
    "glRotatef(-90, 0, 0, 1); //R2\n",
    "glPushMatrix(); // CM = CM2*R2, topStack = CM2*R2\n",
    "glTranslatef(1, 0, 0); //T2 = T1\n",
    "drawShape(); //shape 3 CM3 = CM2*R2*T1\n",
    "```"
   ]
  },
  {
   "cell_type": "code",
   "execution_count": 23,
   "id": "89524d5a",
   "metadata": {},
   "outputs": [
    {
     "name": "stdout",
     "output_type": "stream",
     "text": [
      "[[1 0 1]\n",
      " [0 1 1]\n",
      " [0 0 1]]\n"
     ]
    }
   ],
   "source": [
    "R2 = np.array([[ 0, 1, 0],\n",
    "               [ -1, 0, 0],\n",
    "               [ 0, 0, 1]\n",
    "              ])\n",
    "\n",
    "\n",
    "CM3 = CM2.dot(R2).dot(T1)\n",
    "print(CM3)\n",
    "shape3  = CM3.dot(shape1)\n",
    "shapes.append(shape3.T)"
   ]
  },
  {
   "cell_type": "code",
   "execution_count": 24,
   "id": "6e830aff",
   "metadata": {},
   "outputs": [
    {
     "data": {
      "image/png": "[encoded data removed]",
      "text/plain": [
       "<Figure size 432x288 with 1 Axes>"
      ]
     },
     "metadata": {
      "needs_background": "light"
     },
     "output_type": "display_data"
    }
   ],
   "source": [
    "%matplotlib inline\n",
    "plotShapes(shapes)"
   ]
  },
  {
   "cell_type": "code",
   "execution_count": 25,
   "id": "a29cdb0a",
   "metadata": {},
   "outputs": [],
   "source": [
    "topStack = CM2.dot(R2)"
   ]
  },
  {
   "cell_type": "markdown",
   "id": "d04bf76b",
   "metadata": {},
   "source": [
    "**Shape 4** \n",
    "```c++\n",
    "glScalef(1, 2, 1); // S1\n",
    "glTranslatef(1, -2, 0);  // T3 \n",
    "drawShape(); // shape 4, CM = CM3*S1*T3, topStack = CM2*R2\n",
    "```"
   ]
  },
  {
   "cell_type": "code",
   "execution_count": 26,
   "id": "dbb957aa",
   "metadata": {},
   "outputs": [
    {
     "name": "stdout",
     "output_type": "stream",
     "text": [
      "[[ 1  0  2]\n",
      " [ 0  2 -3]\n",
      " [ 0  0  1]]\n"
     ]
    }
   ],
   "source": [
    "S1 = np.array([[ 1, 0, 0],\n",
    "               [ 0, 2, 0],\n",
    "               [ 0, 0, 1]\n",
    "              ])\n",
    "\n",
    "T3 = np.array([[ 1, 0, 1],\n",
    "               [ 0, 1, -2],\n",
    "               [ 0, 0, 1]\n",
    "              ])\n",
    "\n",
    "\n",
    "CM4 = CM3.dot(S1).dot(T3)\n",
    "print(CM4)\n",
    "shape4  = CM4.dot(shape1)\n",
    "shapes.append(shape4.T)"
   ]
  },
  {
   "cell_type": "code",
   "execution_count": 27,
   "id": "f93eed20",
   "metadata": {
    "scrolled": true
   },
   "outputs": [
    {
     "data": {
      "image/png": "[encoded data removed]",
      "text/plain": [
       "<Figure size 432x288 with 1 Axes>"
      ]
     },
     "metadata": {
      "needs_background": "light"
     },
     "output_type": "display_data"
    }
   ],
   "source": [
    "%matplotlib inline\n",
    "plotShapes(shapes)"
   ]
  },
  {
   "cell_type": "markdown",
   "id": "535055d6",
   "metadata": {},
   "source": [
    "**Shape 5** \n",
    "```c++\n",
    "glTranslatef(-2, 2, 0); // T4\n",
    "glRotatef(90, 0, 0, 1); //R1 \n",
    "glTranslatef(-1, -1, 0); // T5\n",
    "glScalef(1, .5, 1); // S2\n",
    "glRotatef(90, 0, 0, 1); // R1 (CM = CM4*T4*R1*T5*S2*R1)\n",
    "glPopMatrix(); // CM = topStack (topStak = CM2*R2), topStack = I\n",
    "glTranslatef(-2, 1, 0);// T6\n",
    "drawShape(); // shape 5, CM5 = CM2*R2*T6, topStack = I\n",
    "glPopMatrix(); // CM = I, topStack = I\n",
    "```"
   ]
  },
  {
   "cell_type": "code",
   "execution_count": 28,
   "id": "28c1e929",
   "metadata": {},
   "outputs": [
    {
     "name": "stdout",
     "output_type": "stream",
     "text": [
      "[[ 1  0 -2]\n",
      " [ 0  1  2]\n",
      " [ 0  0  1]]\n"
     ]
    }
   ],
   "source": [
    "topStack = CM2.dot(R2)\n",
    "T6 = np.array([[ 1, 0, -2],\n",
    "               [ 0, 1, 1],\n",
    "               [ 0, 0, 1]\n",
    "              ])\n",
    "\n",
    "\n",
    "CM5 = topStack.dot(T6)\n",
    "print(CM5)\n",
    "shape5  = CM5.dot(shape1)\n",
    "shapes.append(shape5.T)"
   ]
  },
  {
   "cell_type": "code",
   "execution_count": 29,
   "id": "eab41ec0",
   "metadata": {
    "scrolled": true
   },
   "outputs": [
    {
     "data": {
      "image/png": "[encoded data removed]",
      "text/plain": [
       "<Figure size 432x288 with 1 Axes>"
      ]
     },
     "metadata": {
      "needs_background": "light"
     },
     "output_type": "display_data"
    }
   ],
   "source": [
    "%matplotlib inline\n",
    "plotShapes(shapes)"
   ]
  },
  {
   "cell_type": "code",
   "execution_count": 30,
   "id": "f862afec",
   "metadata": {},
   "outputs": [],
   "source": [
    "topStack = np.eye(3)\n",
    "CM = np.eye(3)"
   ]
  },
  {
   "cell_type": "code",
   "execution_count": 31,
   "id": "e217f101",
   "metadata": {},
   "outputs": [
    {
     "name": "stdout",
     "output_type": "stream",
     "text": [
      "[[1. 0. 0.]\n",
      " [0. 1. 0.]\n",
      " [0. 0. 1.]]\n"
     ]
    }
   ],
   "source": [
    "print(topStack)"
   ]
  },
  {
   "cell_type": "code",
   "execution_count": 32,
   "id": "d22cdcaf",
   "metadata": {},
   "outputs": [
    {
     "name": "stdout",
     "output_type": "stream",
     "text": [
      "[[1. 0. 0.]\n",
      " [0. 1. 0.]\n",
      " [0. 0. 1.]]\n"
     ]
    }
   ],
   "source": [
    "print(CM)"
   ]
  },
  {
   "cell_type": "markdown",
   "id": "6a747b93",
   "metadata": {},
   "source": [
    "### Q11 (Sheet)\n",
    "**Exam Problem**\n",
    "\n",
    "![](images/q11.png)"
   ]
  },
  {
   "cell_type": "code",
   "execution_count": 33,
   "id": "439faf9f",
   "metadata": {},
   "outputs": [],
   "source": [
    "import numpy as np\n",
    "shape = np.array([[ 0, 0, 1, 0, 0, 2, 0],\n",
    "                   [0, 1, 1, 1, 2, 2, 2],\n",
    "                   [1, 1, 1, 1, 1, 1, 1 ]])"
   ]
  },
  {
   "cell_type": "code",
   "execution_count": 35,
   "id": "6b6c8e21",
   "metadata": {},
   "outputs": [],
   "source": [
    "T1 = np.array([[1, 0, 2],\n",
    "               [0, 1, -1],\n",
    "               [0, 0, 1]\n",
    "              ])\n",
    "T2 = np.array([[1, 0, -4],\n",
    "               [0, 1, -3],\n",
    "               [0, 0, 1]\n",
    "              ])\n",
    "T3 = np.array([[1, 0, -4],\n",
    "               [0, 1, 0],\n",
    "               [0, 0, 1]\n",
    "              ])\n",
    "T4 = np.array([[1, 0, -2],\n",
    "               [0, 1, -2],\n",
    "               [0, 0, 1]\n",
    "              ])\n",
    "R1 = np.array([[0, 1, 0],\n",
    "               [-1, 0,0],\n",
    "               [0, 0, 1]\n",
    "              ])\n",
    "\n",
    "S1 = np.array([[-0.5, 0,  0],\n",
    "               [ 0, 0.5, 0],\n",
    "               [ 0,  0,  1]]);"
   ]
  },
  {
   "cell_type": "code",
   "execution_count": 36,
   "id": "c573a572",
   "metadata": {},
   "outputs": [],
   "source": [
    "CM1 = T1 \n",
    "CM2 = CM1.dot(R1)\n",
    "CM3 = CM2.dot(T2)\n",
    "CM4 = CM1.dot(T3)\n",
    "CM5 = CM4.dot(S1)\n",
    "CM6 = CM5.dot(T4)\n",
    "CMs = [CM1, CM2, CM3, CM4, CM5, CM6]"
   ]
  },
  {
   "cell_type": "code",
   "execution_count": 37,
   "id": "7ed49fe8",
   "metadata": {},
   "outputs": [],
   "source": [
    "shapes = []\n",
    "shapes = [c.dot(shape) for c in CMs]\n",
    "shapes = [s.T for s in shapes]"
   ]
  },
  {
   "cell_type": "code",
   "execution_count": 38,
   "id": "afb11d86",
   "metadata": {},
   "outputs": [
    {
     "data": {
      "text/plain": [
       "6"
      ]
     },
     "execution_count": 38,
     "metadata": {},
     "output_type": "execute_result"
    }
   ],
   "source": [
    "len(shapes)"
   ]
  },
  {
   "cell_type": "code",
   "execution_count": 39,
   "id": "ed56b169",
   "metadata": {},
   "outputs": [
    {
     "data": {
      "image/png": "[encoded data removed]",
      "text/plain": [
       "<Figure size 432x288 with 1 Axes>"
      ]
     },
     "metadata": {
      "needs_background": "light"
     },
     "output_type": "display_data"
    },
    {
     "data": {
      "image/png": "[encoded data removed]",
      "text/plain": [
       "<Figure size 432x288 with 1 Axes>"
      ]
     },
     "metadata": {
      "needs_background": "light"
     },
     "output_type": "display_data"
    },
    {
     "data": {
      "image/png": "[encoded data removed]",
      "text/plain": [
       "<Figure size 432x288 with 1 Axes>"
      ]
     },
     "metadata": {
      "needs_background": "light"
     },
     "output_type": "display_data"
    },
    {
     "data": {
      "image/png": "[encoded data removed]",
      "text/plain": [
       "<Figure size 432x288 with 1 Axes>"
      ]
     },
     "metadata": {
      "needs_background": "light"
     },
     "output_type": "display_data"
    },
    {
     "data": {
      "image/png": "[encoded data removed]",
      "text/plain": [
       "<Figure size 432x288 with 1 Axes>"
      ]
     },
     "metadata": {
      "needs_background": "light"
     },
     "output_type": "display_data"
    },
    {
     "data": {
      "image/png": "[encoded data removed]",
      "text/plain": [
       "<Figure size 432x288 with 1 Axes>"
      ]
     },
     "metadata": {
      "needs_background": "light"
     },
     "output_type": "display_data"
    }
   ],
   "source": [
    "for i in range(6):\n",
    "    plotShapes([shapes[i]])"
   ]
  },
  {
   "cell_type": "markdown",
   "id": "c8210bcd",
   "metadata": {},
   "source": [
    "# All shapes together"
   ]
  },
  {
   "cell_type": "markdown",
   "id": "c8199b12",
   "metadata": {},
   "source": [
    "![](images/solution.png)"
   ]
  },
  {
   "cell_type": "markdown",
   "id": "c603fe90",
   "metadata": {},
   "source": [
    "### Q9\n",
    "\n",
    "* DB(). The DB() procedure draws a block of unit size having vertices at (0,0), (1.0), (1,1), and (0,1).\n",
    "\n",
    "* The blocks that compose the arm are both 3x1 in size\n",
    "\n",
    "\n",
    "![](images/q9.png)"
   ]
  },
  {
   "cell_type": "markdown",
   "id": "f5e7cd05",
   "metadata": {},
   "source": [
    "**Solution**\n",
    "\n",
    "1. The DB function\n",
    "\n",
    "```c\n",
    "\n",
    "//define alpha and theta\n",
    "float alpha = 60;\n",
    "float theta = 60;\n",
    "\n",
    "\n",
    "void DB()\n",
    "{\n",
    "    glPushMatrix();\n",
    "    glBegin(GL_POLYGON);\n",
    "    glVertex3f(0.0, 0.0, 0.0);\n",
    "    glVertex3f(1.0, 0.0, 0.0);\n",
    "    glVertex3f(1.0, 1.0, 0.0);\n",
    "    glVertex3f(0.0, 1.0, 0.0);\n",
    "    glEnd();\n",
    "    glPopMatrix();\n",
    "}\n",
    "```\n",
    "\n",
    "2. Another function to adjust the scale of the segment \n",
    "```c\n",
    "void draw_block(float xs, float ys)\n",
    "{\n",
    "    glPushMatrix();\n",
    "    glScalef(xs, ys, 1.0);\n",
    "    glTranslatef(0.0, -0.5, 0.0);\n",
    "    DB();\n",
    "    glPopMatrix(); \n",
    "}\n",
    "```\n",
    "3. The display function\n",
    "\n",
    "```c\n",
    "void display()\n",
    "{\n",
    "    glClear(GL_COLOR_BUFFER_BIT | GL_DEPTH_BUFFER_BIT);\n",
    "    glLoadIdentity();\n",
    "    glPushMatrix();\n",
    "    glTranslatef(1.0, 3.5, 0.0);\n",
    "    draw_block(2, 5);\n",
    "    glTranslatef(1.0, 1.5, 0.0);\n",
    "    glRotatef(alpha-90, 0.0, 0.0, 1.0); \n",
    "    draw_block(3, 1);\n",
    "    glTranslatef(3.0, 0.0, 0.0);\n",
    "    glRotatef(theta, 0.0, 0.0, 1.0); \n",
    "    draw_block(3, 1);\n",
    "    glPopMatrix();\n",
    "    glutSwapBuffers();\n",
    "}\n",
    "```"
   ]
  },
  {
   "cell_type": "code",
   "execution_count": 41,
   "id": "9e3b65bc",
   "metadata": {},
   "outputs": [],
   "source": [
    "!./problem9"
   ]
  },
  {
   "cell_type": "markdown",
   "id": "68ec328c",
   "metadata": {},
   "source": [
    "## Projection "
   ]
  },
  {
   "cell_type": "markdown",
   "id": "1f795352",
   "metadata": {},
   "source": [
    "From 3D space to 2D plane"
   ]
  },
  {
   "cell_type": "markdown",
   "id": "9692dcde",
   "metadata": {},
   "source": [
    "### Parallel Projection (Orthogonal)"
   ]
  },
  {
   "cell_type": "markdown",
   "id": "af4404ae",
   "metadata": {},
   "source": [
    "* Preserves the parallelism\n",
    "\n",
    "```c++\n",
    "void glOrtho(GLdouble left,\n",
    "             GLdouble right,\n",
    "             GLdouble bottom,\n",
    "             GLdouble top,\n",
    "             GLdouble nearVal,\n",
    "             GLdouble farVal);\n",
    "```\n",
    "**Effect of changing near plane??**"
   ]
  },
  {
   "cell_type": "markdown",
   "id": "b8646e49",
   "metadata": {},
   "source": [
    "<span style=\"color:red\">No effect</span>."
   ]
  },
  {
   "cell_type": "markdown",
   "id": "49bb016f",
   "metadata": {},
   "source": [
    "### Perspective Projection"
   ]
  },
  {
   "cell_type": "markdown",
   "id": "897455d4",
   "metadata": {},
   "source": [
    "* Does not preserve parallelism \n",
    "* Nearer objects appears bigger"
   ]
  },
  {
   "cell_type": "markdown",
   "id": "2281c527",
   "metadata": {},
   "source": [
    "* glFrustum\n",
    "\n",
    "```c++\n",
    "void glFrustum(\tGLdouble left,\n",
    " \tGLdouble right,\n",
    " \tGLdouble bottom,\n",
    " \tGLdouble top,\n",
    " \tGLdouble nearVal,\n",
    " \tGLdouble farVal);\n",
    "```\n",
    "**Effect of changing near plane ??**"
   ]
  },
  {
   "cell_type": "markdown",
   "id": "3f5ecfab",
   "metadata": {},
   "source": [
    "<span style=\"color:red\">\n",
    "ZNear $\\downarrow$ Object size $\\downarrow$\n",
    "\n",
    "</span>."
   ]
  },
  {
   "cell_type": "markdown",
   "id": "6183b5fa",
   "metadata": {},
   "source": [
    "* gluPerspective\n",
    "```c++\n",
    "void gluPerspective(\tGLdouble fovy,\n",
    " \tGLdouble aspect,\n",
    " \tGLdouble zNear,\n",
    " \tGLdouble zFar);\n",
    "```\n",
    "\n",
    "**Effect of changing fovy?**"
   ]
  },
  {
   "cell_type": "markdown",
   "id": "1103eda5",
   "metadata": {},
   "source": [
    "<span style=\"color:red\">\n",
    "Fovy $\\downarrow$ Object size $\\uparrow$\n",
    "\n",
    "</span>."
   ]
  },
  {
   "cell_type": "markdown",
   "id": "8ebda628",
   "metadata": {},
   "source": [
    "## Pipeline"
   ]
  },
  {
   "cell_type": "markdown",
   "id": "f5ee2d25",
   "metadata": {},
   "source": [
    "The pipeline simply includes\n",
    "\n",
    "1. 3D Modeling (Primitives or vertices) Model **(World Coordinates)**\n",
    "\n",
    "2. Lightening and coloring calculations\n",
    "\n",
    "3. Transform to 3D camera coordinates View **(Camera Coordinates)**\n",
    "\n",
    "4. Clip to 2D Screen coordinates Projection **(Sceen Coordinate)**\n"
   ]
  },
  {
   "cell_type": "markdown",
   "id": "9ccf9ea7",
   "metadata": {},
   "source": [
    "## Camera "
   ]
  },
  {
   "cell_type": "markdown",
   "id": "3940fc29",
   "metadata": {},
   "source": [
    "```c++\n",
    "void gluLookAt(GLdouble eyeX,\n",
    " \tGLdouble eyeY,\n",
    " \tGLdouble eyeZ,\n",
    " \tGLdouble centerX,\n",
    " \tGLdouble centerY,\n",
    " \tGLdouble centerZ,\n",
    " \tGLdouble upX,\n",
    " \tGLdouble upY,\n",
    " \tGLdouble upZ);\n",
    "```"
   ]
  },
  {
   "cell_type": "markdown",
   "id": "186849c6",
   "metadata": {},
   "source": [
    "**What do we care about in up vector ?** (magnitude or direction)"
   ]
  },
  {
   "cell_type": "markdown",
   "id": "692994a5",
   "metadata": {},
   "source": [
    "## Illumination and shapding"
   ]
  },
  {
   "cell_type": "markdown",
   "id": "fc5cb89b",
   "metadata": {},
   "source": [
    "###  Lighting"
   ]
  },
  {
   "cell_type": "markdown",
   "id": "922eff47",
   "metadata": {},
   "source": [
    "* Ambient lighting : approximation of uniform environmental light without existence of a light source.\n",
    "* Diffuse lighting : Reflected in all direction due to roughness of the surface.\n",
    "* Specular lighting: Reflection of the light in one direction (Smooth surface)."
   ]
  },
  {
   "cell_type": "markdown",
   "id": "dbb32e55",
   "metadata": {},
   "source": [
    "### Light sources"
   ]
  },
  {
   "cell_type": "markdown",
   "id": "d2338dc6",
   "metadata": {},
   "source": [
    "* Point (Positional) \n",
    "* Directional    **position ??**"
   ]
  },
  {
   "cell_type": "markdown",
   "id": "d3b77621",
   "metadata": {},
   "source": [
    "### Shading "
   ]
  },
  {
   "cell_type": "markdown",
   "id": "d6b6652e",
   "metadata": {},
   "source": [
    "* Flat \n",
    "* Smooth"
   ]
  },
  {
   "cell_type": "markdown",
   "id": "b54bb7cc",
   "metadata": {},
   "source": [
    "## Important Concepts "
   ]
  },
  {
   "cell_type": "markdown",
   "id": "d5e2ba35",
   "metadata": {},
   "source": [
    "* Ray Casting and Ray tracing\n",
    "* Depth buffer\n",
    "* Double buffering "
   ]
  }
 ],
 "metadata": {
  "kernelspec": {
   "display_name": "Python 3 (ipykernel)",
   "language": "python",
   "name": "python3"
  },
  "language_info": {
   "codemirror_mode": {
    "name": "ipython",
    "version": 3
   },
   "file_extension": ".py",
   "mimetype": "text/x-python",
   "name": "python",
   "nbconvert_exporter": "python",
   "pygments_lexer": "ipython3",
   "version": "3.8.10"
  }
 },
 "nbformat": 4,
 "nbformat_minor": 5
}
